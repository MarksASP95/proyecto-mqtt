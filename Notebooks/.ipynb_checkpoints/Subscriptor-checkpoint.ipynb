{
 "cells": [
  {
   "cell_type": "markdown",
   "metadata": {},
   "source": [
    "# Script de subscriptor\n",
    "\n",
    "En este script recibiremos los mensajes del publicador, gracias a ellos el subscriptor podrá interactuar con la base de datos. Antes de empezar recuerda restaurar la base de datos suministrada (**sambil_db.sql**).\n",
    "\n",
    "Primero importaremos las librerías necesarias y conectaremos con la base de datos y el broker MQTT."
   ]
  },
  {
   "cell_type": "code",
   "execution_count": null,
   "metadata": {},
   "outputs": [],
   "source": [
    "import paho.mqtt.client as mqtt\n",
    "import psycopg2\n",
    "import json\n",
    "import random\n",
    "\n",
    "# Conectarse a la base de datos PostgreSQL (usa tus credenciales)\n",
    "conn = psycopg2.connect(host='localhost', user='postgres', password='', dbname='')\n",
    "cursor = conn.cursor()\n",
    "\n",
    "# Crear instancia de cliente de MQTT\n",
    "client = mqtt.Client()"
   ]
  },
  {
   "cell_type": "code",
   "execution_count": null,
   "metadata": {},
   "outputs": [],
   "source": [
    "# Con este diccionario llamaremos de forma dinamica a los procedimientos almacenados en la BD\n",
    "sql_ops = {\n",
    "    0: 'registrar_acceso',\n",
    "    1: 'registrar_recorrido',\n",
    "    2: 'registrar_tienda',\n",
    "    3: 'registrar_mesa'\n",
    "}\n",
    "\n",
    "# Ejecutar SQL con el mensaje recibido\n",
    "def exe_sql(payload):\n",
    "    try:\n",
    "        # El publicador nos envia:\n",
    "            # El numero del procedimiento (coincide con el diccionario) -> payload['sql_op']\n",
    "            # Los argumentos de la funcion -> payload['args']\n",
    "            # Un mensaje para sacar por pantalla -> payload['message']\n",
    "        cursor.callproc(sql_ops[payload['sql_op']], payload['args'])\n",
    "        conn.commit()\n",
    "        print(payload['message'])\n",
    "    except psycopg2.errors.InFailedSqlTransaction as e:\n",
    "        pass\n",
    "    except psycopg2.errors.NotNullValidation as e:\n",
    "        pass\n",
    "\n",
    "# Se ejecuta cuando la conexion se realiza\n",
    "def on_connect(client, userdata, flags, rc):\n",
    "    print (\"Subscriptor activado :\" + str(rc))\n",
    "\n",
    "# Se ejecuta cuando llega un mensaje\n",
    "def on_message(client, userdata, message):\n",
    "    msg = json.loads(message.payload)\n",
    "    exe_sql(msg)\n",
    "\n",
    "# Al conectarse, ejecutar funcion on_connected\n",
    "client.on_connect = on_connect\n",
    "\n",
    "# Al recibir mensaje, ejecutar funcion on_message\n",
    "client.on_message = on_message\n",
    "\n",
    "# Establecer conexion con broker\n",
    "client.connect(\"localhost\", 1883, 60)\n",
    "\n",
    "# Subscribirse a un topico\n",
    "client.subscribe(\"Actividades\")\n",
    "\n",
    "# Poner al broker a la escucha de nuevos mensajes\n",
    "client.loop_forever()"
   ]
  },
  {
   "cell_type": "markdown",
   "metadata": {},
   "source": [
    "Una vez que hayas ejecutado este script recibirás los mensajes de actividad del publicador, se verá reflejado en la base de datos."
   ]
  },
  {
   "cell_type": "markdown",
   "metadata": {},
   "source": [
    "**Para limpiar la celda de actividades**\n",
    "\n",
    "Cell -> All Output -> Clear"
   ]
  },
  {
   "cell_type": "code",
   "execution_count": null,
   "metadata": {},
   "outputs": [],
   "source": []
  }
 ],
 "metadata": {
  "kernelspec": {
   "display_name": "Python 3",
   "language": "python",
   "name": "python3"
  },
  "language_info": {
   "codemirror_mode": {
    "name": "ipython",
    "version": 3
   },
   "file_extension": ".py",
   "mimetype": "text/x-python",
   "name": "python",
   "nbconvert_exporter": "python",
   "pygments_lexer": "ipython3",
   "version": "3.7.3"
  }
 },
 "nbformat": 4,
 "nbformat_minor": 2
}
