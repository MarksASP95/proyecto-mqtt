{
 "cells": [
  {
   "cell_type": "markdown",
   "metadata": {},
   "source": [
    "# Data Analysis - Smart Sambil\n",
    "\n",
    "Este Notebook proporciona vistas SQL que devuelven datos interesantes de la base de datos del Sambil. También muestra los datos en tablas y gráficos. Puedes ver la definición de estas vistas y demás scripts de la base de datos en el archivo **important.sql**.\n",
    "\n",
    "Antes de empezar recuerda restaurar la base de datos suministrada (**sambil_db.sql**).\n",
    "\n",
    "Las tablas y gráficos se generan con consultas a la base de datos; si actualizas su datos puedes volver a ejecutar los scripts y ver los datos refejados.\n",
    "\n",
    "Importemos las librerías que serán necesarias."
   ]
  },
  {
   "cell_type": "code",
   "execution_count": null,
   "metadata": {},
   "outputs": [],
   "source": [
    "import psycopg2\n",
    "import pandas as pd\n",
    "import matplotlib\n",
    "import matplotlib.pyplot as plt\n",
    "import numpy as np"
   ]
  },
  {
   "cell_type": "markdown",
   "metadata": {},
   "source": [
    "Establezcamos conexión con la base de datos (utiliza tus credenciales) e instanciemos un cursor."
   ]
  },
  {
   "cell_type": "code",
   "execution_count": null,
   "metadata": {},
   "outputs": [],
   "source": [
    "conn = psycopg2.connect(host='localhost', user='postgres', password='', dbname='')\n",
    "cursor = conn.cursor()"
   ]
  },
  {
   "cell_type": "markdown",
   "metadata": {},
   "source": [
    "Ya podemos realizar consultas.\n",
    "\n",
    "### Porcentaje de ventas con dirección MAC (smartphone) contra ventas sin dirección MAC (sin smartphone)"
   ]
  },
  {
   "cell_type": "code",
   "execution_count": null,
   "metadata": {},
   "outputs": [],
   "source": [
    "# Construimos la consulta\n",
    "sql_query = 'SELECT * FROM ventas_totales_vs_mac;'\n",
    "\n",
    "# Hacemos que pandas lea la consulta\n",
    "df = pd.read_sql(sql_query, conn)\n",
    "\n",
    "porcentajes = [df[\"Ventas MAC\"][0], df[\"Ventas sin MAC\"][0]]\n",
    "\n",
    "plt.pie(porcentajes, labels=[\"Ventas MAC\",\"Ventas sin MAC\"], autopct=\"%0.1f%%\")\n",
    "\n",
    "# Mostrar tabla\n",
    "df"
   ]
  },
  {
   "cell_type": "markdown",
   "metadata": {},
   "source": [
    "### Top 5 de personas que más entran al Sambil"
   ]
  },
  {
   "cell_type": "code",
   "execution_count": null,
   "metadata": {},
   "outputs": [],
   "source": [
    "# Construimos la consulta\n",
    "sql_query = 'SELECT * FROM top_cinco_mac_entrada;'\n",
    "\n",
    "# Hacemos que pandas lea la consulta\n",
    "df = pd.read_sql(sql_query, conn)\n",
    "\n",
    "height = df[\"Cantidad de entradas\"]\n",
    "bars = df[\"Nombre\"] + \" - \" + df[\"Direccion MAC\"]\n",
    "y_pos = np.arange(len(bars))\n",
    " \n",
    "plt.barh(y_pos, height)\n",
    " \n",
    "plt.yticks(y_pos, bars)\n",
    "\n",
    "# Mostrar tabla\n",
    "df"
   ]
  },
  {
   "cell_type": "markdown",
   "metadata": {},
   "source": [
    "### Reporte de ventas de las tiendas en forma descendente"
   ]
  },
  {
   "cell_type": "code",
   "execution_count": null,
   "metadata": {},
   "outputs": [],
   "source": [
    "# Construimos la consulta\n",
    "sql_query = 'SELECT * FROM ventas_mes_actual_por_tienda;'\n",
    "\n",
    "# Hacemos que pandas lea la consulta\n",
    "df = pd.read_sql(sql_query, conn)\n",
    "\n",
    "df.plot(kind='bar', x='Tienda', y='Venta mensual')\n",
    "\n",
    "# Mostrar tabla\n",
    "df"
   ]
  },
  {
   "cell_type": "markdown",
   "metadata": {},
   "source": [
    "### Reporte de visitas de las tiendas"
   ]
  },
  {
   "cell_type": "code",
   "execution_count": null,
   "metadata": {},
   "outputs": [],
   "source": [
    "# Construimos la consulta\n",
    "sql_query = 'SELECT * FROM cantidad_de_visitas_tienda_mes_actual;'\n",
    "\n",
    "# Hacemos que pandas lea la consulta\n",
    "df = pd.read_sql(sql_query, conn)\n",
    "\n",
    "height = df[\"Cantidad de visitas\"]\n",
    "bars = df[\"Tienda\"]\n",
    "y_pos = np.arange(len(bars))\n",
    " \n",
    "plt.barh(y_pos, height)\n",
    " \n",
    "plt.yticks(y_pos, bars)\n",
    "\n",
    "# Mostrar tabla\n",
    "df"
   ]
  },
  {
   "cell_type": "markdown",
   "metadata": {},
   "source": [
    "### Porcentaje de personas que se sientan en las mesas"
   ]
  },
  {
   "cell_type": "code",
   "execution_count": null,
   "metadata": {},
   "outputs": [],
   "source": [
    "# Construimos la consulta\n",
    "sql_query = 'SELECT * FROM entradas_vs_sentados;'\n",
    "\n",
    "# Hacemos que pandas lea la consulta\n",
    "df = pd.read_sql(sql_query, conn)\n",
    "\n",
    "porcentajes = [df[\"Num. de sentados\"][0], df[\"Entradas\"][0] - df[\"Num. de sentados\"][0]]\n",
    "\n",
    "plt.pie(porcentajes, labels=[\"Se sientan\",\"No se sientan\"], autopct=\"%0.1f%%\")\n",
    "\n",
    "# Mostrar tabla\n",
    "df"
   ]
  },
  {
   "cell_type": "markdown",
   "metadata": {},
   "source": [
    "## Más gráficos"
   ]
  },
  {
   "cell_type": "markdown",
   "metadata": {},
   "source": [
    "### Gráfico de dispersión  de ventas contra visitas por cada tienda"
   ]
  },
  {
   "cell_type": "code",
   "execution_count": null,
   "metadata": {},
   "outputs": [],
   "source": [
    "# Construimos la consulta\n",
    "sql_query = 'select * from ventas_mes_actual_por_tienda natural join cantidad_de_visitas_tienda_mes_actual;'\n",
    "\n",
    "df = pd.read_sql(sql_query, conn)\n",
    "\n",
    "types = df[\"Tienda\"]\n",
    "x_coords = df[\"Cantidad de visitas\"]\n",
    "y_coords = df[\"Venta mensual\"]\n",
    "\n",
    "for i,type in enumerate(types):\n",
    "    x = x_coords[i]\n",
    "    y = y_coords[i]\n",
    "    plt.scatter(x, y, color='red')\n",
    "    plt.text(x+0.3, y+0.3, type, fontsize=9)\n",
    "plt.yticks(df[\"Venta mensual\"])\n",
    "print(\"Eje Y en millones\")\n",
    "plt.show()"
   ]
  },
  {
   "cell_type": "markdown",
   "metadata": {},
   "source": [
    "### Gráfico de calor de las ubicaciones del centro comercial\n",
    "\n",
    "A lo largo del plano del centro comercial se distribuyen nodos en una matriz cuadrada. Estos nodos corresponden a los de la base de datos. **Puedes interactuar con este gráfico**; cambiando el método para la interpolación. Cambia de método entre los proporcionados para ver el resultado. "
   ]
  },
  {
   "cell_type": "code",
   "execution_count": null,
   "metadata": {},
   "outputs": [],
   "source": [
    "import matplotlib.image as image\n",
    "\n",
    "img = image.imread('../plano.png')\n",
    "\n",
    "# Construimos la consulta\n",
    "sql_query = 'select count(id_act) as \"cantidad\" from act_nodo group by id_nodo order by id_nodo asc;'\n",
    "\n",
    "df = pd.read_sql(sql_query, conn)\n",
    "r = []\n",
    "i = 0\n",
    "m = []\n",
    "for index, row in df.iterrows():\n",
    "    r.append(row['cantidad'])\n",
    "    if(i == 4):\n",
    "        m.append(r)\n",
    "        r = []\n",
    "        i = 0\n",
    "        continue\n",
    "    i += 1\n",
    "    \n",
    "m = np.asmatrix(m)\n",
    "\n",
    "data = m\n",
    "\n",
    "fig = plt.figure()\n",
    "ax = fig.add_subplot(111)\n",
    "\n",
    "# Lista de métodos\n",
    "metodos_interpolacion = {\n",
    "    1: 'nearest',   # Recomendado\n",
    "    2: 'catrom',\n",
    "    3: 'gaussian',\n",
    "    4: 'mitchell',\n",
    "    5: 'sinc',      # Recomendado\n",
    "    6: 'lanczos'    # Recomendado\n",
    "}\n",
    "\n",
    "# Para cambiar el metodo, cambia el indice de metodos_interpolacion\n",
    "cax = ax.matshow(data, cmap='plasma', interpolation=metodos_interpolacion[6])\n",
    "fig.colorbar(cax)\n",
    "\n",
    "print(\"La barra de la derecha representa la cantidad de visitas con su correspondiente color en la escala\")\n",
    "\n",
    "plt.imshow(img, alpha=0.4, aspect='auto', extent=[-0.5,4.5,3.5,-0.5])\n",
    "plt.show()"
   ]
  },
  {
   "cell_type": "markdown",
   "metadata": {},
   "source": [
    "### [IA] Cantidad de hombres y mujeres que entran al centro comercial"
   ]
  },
  {
   "cell_type": "code",
   "execution_count": null,
   "metadata": {},
   "outputs": [],
   "source": [
    "sql_query = 'select * from hombres_vs_mujeres';\n",
    "\n",
    "df = pd.read_sql(sql_query, conn)\n",
    "\n",
    "plt.pie([df['Hombres'][0], df['Mujeres'][0]], labels=[\"Hombres\",\"Mujeres\"], autopct=\"%0.1f%%\")\n",
    "print(\"[97% de precision]\")\n",
    "plt.show()"
   ]
  },
  {
   "cell_type": "markdown",
   "metadata": {},
   "source": [
    "### [IA] Gráfico de barras de cantidad de hombres (azul) y mujeres (rojo) por edad"
   ]
  },
  {
   "cell_type": "code",
   "execution_count": null,
   "metadata": {},
   "outputs": [],
   "source": [
    "sql_query_hombres = 'select * from cantidad_hombres_por_edad;'\n",
    "sql_query_mujeres = 'select * from cantidad_mujeres_por_edad;'\n",
    "\n",
    "df_h = pd.read_sql(sql_query_hombres, conn)\n",
    "df_m = pd.read_sql(sql_query_mujeres, conn)\n",
    "\n",
    "fig, axes = plt.subplots(ncols=2, sharey=True)\n",
    "axes[0].barh(df_h['Edad'], df_h['Cantidad'], align='center', color='blue')\n",
    "axes[1].barh(df_m['Edad'], df_m['Cantidad'], align='center', color='red')\n",
    "axes[0].invert_xaxis()\n",
    "plt.show()"
   ]
  },
  {
   "cell_type": "code",
   "execution_count": null,
   "metadata": {},
   "outputs": [],
   "source": []
  }
 ],
 "metadata": {
  "kernelspec": {
   "display_name": "Python 3",
   "language": "python",
   "name": "python3"
  },
  "language_info": {
   "codemirror_mode": {
    "name": "ipython",
    "version": 3
   },
   "file_extension": ".py",
   "mimetype": "text/x-python",
   "name": "python",
   "nbconvert_exporter": "python",
   "pygments_lexer": "ipython3",
   "version": "3.7.3"
  }
 },
 "nbformat": 4,
 "nbformat_minor": 2
}
